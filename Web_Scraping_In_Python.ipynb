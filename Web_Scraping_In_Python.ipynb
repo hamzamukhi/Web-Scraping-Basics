{
  "nbformat": 4,
  "nbformat_minor": 0,
  "metadata": {
    "colab": {
      "name": "Web Scraping In Python.ipynb",
      "provenance": [],
      "collapsed_sections": [],
      "authorship_tag": "ABX9TyNc/scDpMWQda2UmsrqqX4h"
    },
    "kernelspec": {
      "name": "python3",
      "display_name": "Python 3"
    },
    "language_info": {
      "name": "python"
    }
  },
  "cells": [
    {
      "cell_type": "code",
      "metadata": {
        "colab": {
          "base_uri": "https://localhost:8080/"
        },
        "id": "Jo3e69CvzCUy",
        "outputId": "84ec51e5-1f41-42a9-c377-471db6fd3c34"
      },
      "source": [
        "!pip install lxml\n",
        "!pip install beautifulsoup4"
      ],
      "execution_count": 61,
      "outputs": [
        {
          "output_type": "stream",
          "text": [
            "Requirement already satisfied: lxml in /usr/local/lib/python3.7/dist-packages (4.2.6)\n",
            "Requirement already satisfied: beautifulsoup4 in /usr/local/lib/python3.7/dist-packages (4.6.3)\n"
          ],
          "name": "stdout"
        }
      ]
    },
    {
      "cell_type": "code",
      "metadata": {
        "id": "ShwSpXRFwKJj"
      },
      "source": [
        "from urllib.request import urlopen\n",
        "from bs4 import BeautifulSoup"
      ],
      "execution_count": 58,
      "outputs": []
    },
    {
      "cell_type": "code",
      "metadata": {
        "id": "lU7xynqiwR03"
      },
      "source": [
        "url = \"https://webscraper.io/test-sites/tables\""
      ],
      "execution_count": 59,
      "outputs": []
    },
    {
      "cell_type": "code",
      "metadata": {
        "id": "RSIqP-URwkCD"
      },
      "source": [
        "html_code = urlopen(url).read().decode(\"utf-8\")\n"
      ],
      "execution_count": 60,
      "outputs": []
    },
    {
      "cell_type": "code",
      "metadata": {
        "colab": {
          "base_uri": "https://localhost:8080/"
        },
        "id": "pLJe-0d1wyuc",
        "outputId": "a5d0c696-b071-48c6-a741-7d08de64a55f"
      },
      "source": [
        "print(html_code)"
      ],
      "execution_count": 62,
      "outputs": [
        {
          "output_type": "stream",
          "text": [
            "<!DOCTYPE html>\n",
            "<html lang=\"en\">\n",
            "<head>\n",
            "\n",
            "\t\t\t<!-- Anti-flicker snippet (recommended)  -->\n",
            "<style>.async-hide {\n",
            "\t\topacity: 0 !important\n",
            "\t} </style>\n",
            "<script>(function (a, s, y, n, c, h, i, d, e) {\n",
            "\t\ts.className += ' ' + y;\n",
            "\t\th.start = 1 * new Date;\n",
            "\t\th.end = i = function () {\n",
            "\t\t\ts.className = s.className.replace(RegExp(' ?' + y), '')\n",
            "\t\t};\n",
            "\t\t(a[n] = a[n] || []).hide = h;\n",
            "\t\tsetTimeout(function () {\n",
            "\t\t\ti();\n",
            "\t\t\th.end = null\n",
            "\t\t}, c);\n",
            "\t\th.timeout = c;\n",
            "\t})(window, document.documentElement, 'async-hide', 'dataLayer', 4000,\n",
            "\t\t{'GTM-NVFPDWB': true});</script>\n",
            "\t\n",
            "\t<!-- Google Tag Manager -->\n",
            "<script>(function (w, d, s, l, i) {\n",
            "\t\tw[l] = w[l] || [];\n",
            "\t\tw[l].push({\n",
            "\t\t\t'gtm.start':\n",
            "\t\t\t\tnew Date().getTime(), event: 'gtm.js'\n",
            "\t\t});\n",
            "\t\tvar f = d.getElementsByTagName(s)[0],\n",
            "\t\t\tj = d.createElement(s), dl = l != 'dataLayer' ? '&l=' + l : '';\n",
            "\t\tj.async = true;\n",
            "\t\tj.src =\n",
            "\t\t\t'https://www.googletagmanager.com/gtm.js?id=' + i + dl;\n",
            "\t\tf.parentNode.insertBefore(j, f);\n",
            "\t})(window, document, 'script', 'dataLayer', 'GTM-NVFPDWB');</script>\n",
            "<!-- End Google Tag Manager -->\n",
            "\t<title>Web Scraper Test Sites</title>\n",
            "\t<meta charset=\"utf-8\">\n",
            "\t<meta http-equiv=\"X-UA-Compatible\" content=\"IE=edge,chrome=1\">\n",
            "\n",
            "\t<meta name=\"keywords\"\n",
            "\t      content=\"web scraping,Web Scraper,Chrome extension,Crawling,Cross platform scraper\"/>\n",
            "\t<meta name=\"description\"\n",
            "\t      content=\"The most popular web scraping extension. Start scraping in minutes. Automate your tasks with our Cloud Scraper. No software to download, no coding needed.\"/>\n",
            "\t<link rel=\"icon\" sizes=\"128x128\" href=\"/favicon.png\">\n",
            "\n",
            "\t<meta name=\"viewport\" content=\"width=device-width, initial-scale=1.0\">\n",
            "\t\n",
            "\t<link rel=\"stylesheet\" href=\"/css/app.css?id=e4de8db16b64e604046e\">\n",
            "\n",
            "\t<link rel=\"canonical\" href=\"https://webscraper.io/test-sites/tables\">\n",
            "\t<link rel=\"apple-touch-icon\" href=\"/img/logo-icon.png\">\n",
            "\n",
            "\t\t<script defer src=\"/js/app.js?id=e64f07a3ce1d466cf04c\"></script>\n",
            "\n",
            "\t\n",
            "</head>\n",
            "<body>\n",
            "<!-- Google Tag Manager (noscript) -->\n",
            "<noscript>\n",
            "\t<iframe src=\"https://www.googletagmanager.com/ns.html?id=GTM-NVFPDWB\"\n",
            "\t        height=\"0\" width=\"0\" style=\"display:none;visibility:hidden\"></iframe>\n",
            "</noscript>\n",
            "<!-- End Google Tag Manager (noscript) -->\n",
            "<header role=\"banner\" class=\"navbar navbar-fixed-top navbar-static\">\n",
            "\t<div class=\"container\">\n",
            "\n",
            "\t\t<div class=\"navbar-header\">\n",
            "\n",
            "\t\t\t<a data-toggle=\"collapse-side\" data-target=\".side-collapse\" data-target-2=\".side-collapse-container\">\n",
            "\t\t\t\t<button type=\"button\" class=\"navbar-toggle pull-right collapsed\" data-toggle=\"collapse\"\n",
            "\t\t\t\t        data-target=\"#navbar\" data-target-2=\".side-collapse-container\" data-target-3=\".side-collapse\"\n",
            "\t\t\t\t        aria-expanded=\"false\" aria-controls=\"navbar\">\n",
            "\n",
            "\t\t\t\t\t<span class=\"sr-only\">Toggle navigation</span>\n",
            "\t\t\t\t\t<span class=\"icon-bar top-bar\"></span>\n",
            "\t\t\t\t\t<span class=\"icon-bar middle-bar\"></span>\n",
            "\t\t\t\t\t<span class=\"icon-bar bottom-bar\"></span>\n",
            "\n",
            "\t\t\t\t</button>\n",
            "\t\t\t</a>\n",
            "\t\t\t<div class=\"navbar-brand\">\n",
            "\t\t\t\t<a href=\"/\"><img src=\"/img/logo_white.svg\" alt=\"Web Scraper\"></a>\n",
            "\t\t\t</div>\n",
            "\t\t</div>\n",
            "\n",
            "\t\t<div class=\"side-collapse in\">\n",
            "\t\t\t<nav id=\"navbar\" role=\"navigation\" class=\"navbar-collapse collapse\">\n",
            "\t\t\t\t<ul class=\"nav navbar-nav navbar-right\">\n",
            "\t\t\t\t\t<li class=\"hidden\">\n",
            "\t\t\t\t\t\t<a href=\"#page-top\"></a>\n",
            "\t\t\t\t\t</li>\n",
            "\t\t\t\t\t\n",
            "\t\t\t\t\t\n",
            "\t\t\t\t\t\n",
            "\t\t\t\t\t\n",
            "\t\t\t\t\t\n",
            "\t\t\t\t\t\n",
            "\t\t\t\t\t\n",
            "\t\t\t\t\t<li>\n",
            "\t\t\t\t\t\t<a href=\"/\" class=\"menuitm\">\n",
            "\t\t\t\t\t\t\t<p>Web Scraper</p>\n",
            "\t\t\t\t\t\t\t<div class=\"crta\"></div>\n",
            "\t\t\t\t\t\t</a>\n",
            "\t\t\t\t\t</li>\n",
            "\t\t\t\t\t<li>\n",
            "\t\t\t\t\t\t<a href=\"/cloud-scraper\" class=\"menuitm\">\n",
            "\t\t\t\t\t\t\t<p>Cloud Scraper</p>\n",
            "\t\t\t\t\t\t\t<div class=\"crta\"></div>\n",
            "\t\t\t\t\t\t</a>\n",
            "\t\t\t\t\t</li>\n",
            "\t\t\t\t\t<li>\n",
            "\t\t\t\t\t\t<a href=\"/pricing\" class=\"menuitm\">\n",
            "\t\t\t\t\t\t\t<p>Pricing</p>\n",
            "\t\t\t\t\t\t\t<div class=\"crta\"></div>\n",
            "\t\t\t\t\t\t</a>\n",
            "\t\t\t\t\t</li>\n",
            "\t\t\t\t\t\n",
            "\t\t\t\t\t\n",
            "\t\t\t\t\t\n",
            "\t\t\t\t\t\n",
            "\t\t\t\t\t\n",
            "\t\t\t\t\t\n",
            "\t\t\t\t\t\n",
            "\t\t\t\t\t\n",
            "\t\t\t\t\t\n",
            "\t\t\t\t\t\n",
            "\t\t\t\t\t<li class=\"dropdown\">\n",
            "\t\t\t\t\t\t<a href=\"#section3\" class=\"menuitm dropdown-toggle\" data-toggle=\"dropdown\">\n",
            "\t\t\t\t\t\t\t<p>Learn</p>\n",
            "\t\t\t\t\t\t\t<div class=\"crta\"></div>\n",
            "\t\t\t\t\t\t</a>\n",
            "\t\t\t\t\t\t<ul class=\"dropdown-menu\">\n",
            "\t\t\t\t\t\t\t<li>\n",
            "\t\t\t\t\t\t\t\t<a href=\"/documentation\">Documentation</a>\n",
            "\t\t\t\t\t\t\t</li>\n",
            "\t\t\t\t\t\t\t<li>\n",
            "\t\t\t\t\t\t\t\t<a href=\"/tutorials\">Video Tutorials</a>\n",
            "\t\t\t\t\t\t\t</li>\n",
            "\t\t\t\t\t\t\t<li>\n",
            "\t\t\t\t\t\t\t\t<a href=\"/how-to-videos\">How to</a>\n",
            "\t\t\t\t\t\t\t</li>\n",
            "\t\t\t\t\t\t\t<li>\n",
            "\t\t\t\t\t\t\t\t<a href=\"/test-sites\">Test Sites</a>\n",
            "\t\t\t\t\t\t\t</li>\n",
            "\t\t\t\t\t\t\t<li>\n",
            "\t\t\t\t\t\t\t\t<a href=\"https://forum.webscraper.io/\" target=\"_blank\" rel=\"noopener\">Forum</a>\n",
            "\t\t\t\t\t\t\t</li>\n",
            "\t\t\t\t\t\t</ul>\n",
            "\t\t\t\t\t</li>\n",
            "\t\t\t\t\t<li>\n",
            "\t\t\t\t\t\t<a target=\"_blank\" href=\"https://chrome.google.com/webstore/detail/web-scraper/jnhgnonknehpejjnehehllkliplmbmhn?hl=en\" class=\"btn-menu1 install-extension\" rel=\"noopener\">Install</a>\n",
            "\t\t\t\t\t</li>\n",
            "\t\t\t\t\t<li>\n",
            "\t\t\t\t\t\t<a href=\"https://cloud.webscraper.io/\" class=\"btn-menu2\">Login</a>\n",
            "\t\t\t\t\t</li>\n",
            "\t\t\t\t</ul>\n",
            "\t\t\t</nav>\n",
            "\t\t</div>\n",
            "\t</div>\n",
            "</header>\n",
            "\n",
            "<div class=\"wrapper\">\n",
            "\t\n",
            "\t<div class=\"formenu-here container-fluid\">\n",
            "\n",
            "\t</div>\n",
            "\t<div class=\"container-fluid blog-hero\">\n",
            "\t\t<div class=\"container\">\n",
            "\t\t\t<div class=\"row\">\n",
            "\t\t\t\t<div class=\"col-md-12\">\n",
            "\t\t\t\t\t<h1>Table playground</h1>\n",
            "\t\t\t\t</div>\n",
            "\t\t\t</div>\n",
            "\t\t</div>\n",
            "\t</div>\n",
            "\n",
            "\t<div class=\"container\">\n",
            "\n",
            "\t\t<p>\n",
            "\t\t\tYou can train using Table selector here.\n",
            "\t\t</p>\n",
            "\t\t<hr>\n",
            "\n",
            "\t\t<h2>Semantically correct table with thead and tbody</h2>\n",
            "\t\t<p>\n",
            "\t\t\tTable selector automatically detects header and data rows.\n",
            "\t\t</p>\n",
            "\n",
            "\t\t<table class=\"table table-bordered\">\n",
            "\t\t\t<thead>\n",
            "\t\t\t<tr>\n",
            "\t\t\t\t<th>#</th>\n",
            "\t\t\t\t<th>First Name</th>\n",
            "\t\t\t\t<th>Last Name</th>\n",
            "\t\t\t\t<th>Username</th>\n",
            "\t\t\t</tr>\n",
            "\t\t\t</thead>\n",
            "\t\t\t<tbody>\n",
            "\t\t\t<tr>\n",
            "\t\t\t\t<td>1</td>\n",
            "\t\t\t\t<td>Mark</td>\n",
            "\t\t\t\t<td>Otto</td>\n",
            "\t\t\t\t<td>@mdo</td>\n",
            "\t\t\t</tr>\n",
            "\t\t\t<tr>\n",
            "\t\t\t\t<td>2</td>\n",
            "\t\t\t\t<td>Jacob</td>\n",
            "\t\t\t\t<td>Thornton</td>\n",
            "\t\t\t\t<td>@fat</td>\n",
            "\t\t\t</tr>\n",
            "\t\t\t<tr>\n",
            "\t\t\t\t<td>3</td>\n",
            "\t\t\t\t<td>Larry</td>\n",
            "\t\t\t\t<td>the Bird</td>\n",
            "\t\t\t\t<td>@twitter</td>\n",
            "\t\t\t</tr>\n",
            "\t\t\t</tbody>\n",
            "\t\t</table>\n",
            "\n",
            "\t\t<table class=\"table table-bordered\">\n",
            "\t\t\t<thead>\n",
            "\t\t\t<tr>\n",
            "\t\t\t\t<th>#</th>\n",
            "\t\t\t\t<th>First Name</th>\n",
            "\t\t\t\t<th>Last Name</th>\n",
            "\t\t\t\t<th>Username</th>\n",
            "\t\t\t</tr>\n",
            "\t\t\t</thead>\n",
            "\t\t\t<tbody>\n",
            "\t\t\t<tr>\n",
            "\t\t\t\t<td>4</td>\n",
            "\t\t\t\t<td>Harry</td>\n",
            "\t\t\t\t<td>Potter</td>\n",
            "\t\t\t\t<td>@hp</td>\n",
            "\t\t\t</tr>\n",
            "\t\t\t<tr>\n",
            "\t\t\t\t<td>5</td>\n",
            "\t\t\t\t<td>John</td>\n",
            "\t\t\t\t<td>Snow</td>\n",
            "\t\t\t\t<td>@dunno</td>\n",
            "\t\t\t</tr>\n",
            "\t\t\t<tr>\n",
            "\t\t\t\t<td>6</td>\n",
            "\t\t\t\t<td>Tim</td>\n",
            "\t\t\t\t<td>Bean</td>\n",
            "\t\t\t\t<td>@timbean</td>\n",
            "\t\t\t</tr>\n",
            "\t\t\t</tbody>\n",
            "\t\t</table>\n",
            "\n",
            "\t\t<hr>\n",
            "\n",
            "\t\t<h2>Table without thead tag</h2>\n",
            "\t\t<p>\n",
            "\t\t\tTable selector automatically detects header and data rows.\n",
            "\t\t</p>\n",
            "\n",
            "\t\t<table class=\"table table-bordered\">\n",
            "\t\t\t<tbody>\n",
            "\t\t\t<tr>\n",
            "\t\t\t\t<th>#</th>\n",
            "\t\t\t\t<th>First Name</th>\n",
            "\t\t\t\t<th>Last Name</th>\n",
            "\t\t\t\t<th>Username</th>\n",
            "\t\t\t</tr>\n",
            "\t\t\t<tr>\n",
            "\t\t\t\t<td>1</td>\n",
            "\t\t\t\t<td>Mark</td>\n",
            "\t\t\t\t<td>Otto</td>\n",
            "\t\t\t\t<td>@mdo</td>\n",
            "\t\t\t</tr>\n",
            "\t\t\t<tr>\n",
            "\t\t\t\t<td>2</td>\n",
            "\t\t\t\t<td>Jacob</td>\n",
            "\t\t\t\t<td>Thornton</td>\n",
            "\t\t\t\t<td>@fat</td>\n",
            "\t\t\t</tr>\n",
            "\t\t\t<tr>\n",
            "\t\t\t\t<td>3</td>\n",
            "\t\t\t\t<td>Larry</td>\n",
            "\t\t\t\t<td>the Bird</td>\n",
            "\t\t\t\t<td>@twitter</td>\n",
            "\t\t\t</tr>\n",
            "\t\t\t</tbody>\n",
            "\t\t</table>\n",
            "\n",
            "\t\t<h2>Table with multiple header rows and an empty data row</h2>\n",
            "\t\t<p>\n",
            "\t\t\tYou must manually select header and data rows.\n",
            "\t\t</p>\n",
            "\n",
            "\t\t<table class=\"table table-bordered\">\n",
            "\t\t\t<tbody>\n",
            "\t\t\t<tr>\n",
            "\t\t\t\t<th></th>\n",
            "\t\t\t\t<th colspan=\"2\">Person</th>\n",
            "\t\t\t\t<th>User data</th>\n",
            "\t\t\t</tr>\n",
            "\t\t\t<tr>\n",
            "\t\t\t\t<th>#</th>\n",
            "\t\t\t\t<th>First Name</th>\n",
            "\t\t\t\t<th>Last Name</th>\n",
            "\t\t\t\t<th>Username</th>\n",
            "\t\t\t</tr>\n",
            "\t\t\t<tr>\n",
            "\t\t\t\t<td>-</td>\n",
            "\t\t\t\t<td>-</td>\n",
            "\t\t\t\t<td>-</td>\n",
            "\t\t\t\t<td>-</td>\n",
            "\t\t\t</tr>\n",
            "\t\t\t<tr>\n",
            "\t\t\t\t<td>1</td>\n",
            "\t\t\t\t<td>Mark</td>\n",
            "\t\t\t\t<td>Otto</td>\n",
            "\t\t\t\t<td>@mdo</td>\n",
            "\t\t\t</tr>\n",
            "\t\t\t<tr>\n",
            "\t\t\t\t<td>2</td>\n",
            "\t\t\t\t<td>Jacob</td>\n",
            "\t\t\t\t<td>Thornton</td>\n",
            "\t\t\t\t<td>@fat</td>\n",
            "\t\t\t</tr>\n",
            "\t\t\t<tr>\n",
            "\t\t\t\t<td>3</td>\n",
            "\t\t\t\t<td>Larry</td>\n",
            "\t\t\t\t<td>the Bird</td>\n",
            "\t\t\t\t<td>@twitter</td>\n",
            "\t\t\t</tr>\n",
            "\t\t\t</tbody>\n",
            "\t\t</table>\n",
            "\n",
            "\t</div>\n",
            "\n",
            "\t<div class=\"clearfix\"></div>\n",
            "\t<div class=\"push\"></div>\n",
            "</div>\n",
            "\n",
            "<div class=\"container-fluid footer\" id=\"layout-footer\">\n",
            "\t<div class=\"container\">\n",
            "\t\t<div class=\"row\">\n",
            "\t\t\t<div class=\"col-md-3\">\n",
            "\t\t\t\t<ul>\n",
            "\t\t\t\t\t<li><p>Products</p></li>\n",
            "\t\t\t\t\t<li>\n",
            "\t\t\t\t\t\t<a href=\"/\">Web Scraper browser extension</a>\n",
            "\t\t\t\t\t</li>\n",
            "\t\t\t\t\t<li>\n",
            "\t\t\t\t\t\t<a href=\"/pricing\">Web Scraper Cloud</a>\n",
            "\t\t\t\t\t</li>\n",
            "\t\t\t\t\t\t\t\t\t\t\n",
            "\t\t\t\t\t\n",
            "\t\t\t\t</ul>\n",
            "\t\t\t</div>\n",
            "\t\t\t<div class=\"col-md-3\">\n",
            "\t\t\t\t<ul>\n",
            "\t\t\t\t\t<li><p>Company</p></li>\n",
            "\t\t\t\t\t\n",
            "\t\t\t\t\t<li><a href=\"/contact\">Contact</a>\n",
            "\t\t\t\t\t</li>\n",
            "\t\t\t\t\t\n",
            "\t\t\t\t\t<li>\n",
            "\t\t\t\t\t\t<a href=\"/privacy-policy\">Website Privacy Policy</a>\n",
            "\t\t\t\t\t</li>\n",
            "\t\t\t\t\t<li>\n",
            "\t\t\t\t\t\t<a href=\"/extension-privacy-policy\">Browser Extension Privacy Policy</a>\n",
            "\t\t\t\t\t</li>\n",
            "\t\t\t\t\t<li>\n",
            "\t\t\t\t\t\t<a href=\"http://webscraperio.us-east-1.elasticbeanstalk.com/downloads/Web_Scraper_Media_Kit.zip\">Media kit</a>\n",
            "\t\t\t\t\t</li>\n",
            "\t\t\t\t\t\n",
            "\t\t\t\t\t<li><a href=\"/jobs\">Jobs</a></li>\n",
            "\t\t\t\t</ul>\n",
            "\t\t\t</div>\n",
            "\t\t\t<div class=\"col-md-3\">\n",
            "\t\t\t\t<ul>\n",
            "\t\t\t\t\t<li><p>Resources</p></li>\n",
            "\t\t\t\t\t<li><a href=\"/blog\">Blog</a></li>\n",
            "\t\t\t\t\t<li>\n",
            "\t\t\t\t\t\t<a href=\"/documentation\">Documentation</a>\n",
            "\t\t\t\t\t</li>\n",
            "\t\t\t\t\t<li>\n",
            "\t\t\t\t\t\t<a href=\"/tutorials\">Video Tutorials</a>\n",
            "\t\t\t\t\t</li>\n",
            "\t\t\t\t\t<li>\n",
            "\t\t\t\t\t\t<a href=\"/screenshots\">Screenshots</a>\n",
            "\t\t\t\t\t</li>\n",
            "\t\t\t\t\t<li>\n",
            "\t\t\t\t\t\t<a href=\"/test-sites\">Test Sites</a>\n",
            "\t\t\t\t\t</li>\n",
            "\t\t\t\t\t<li>\n",
            "\t\t\t\t\t\t<a target=\"_blank\" href=\"https://forum.webscraper.io/\" rel=\"noopener\">Forum</a>\n",
            "\t\t\t\t\t</li>\n",
            "\t\t\t\t</ul>\n",
            "\t\t\t</div>\n",
            "\t\t\t<div class=\"col-md-3\">\n",
            "\t\t\t\t<ul>\n",
            "\t\t\t\t\t<li><p>CONTACT US</p></li>\n",
            "\t\t\t\t\t<li>\n",
            "\t\t\t\t\t\t<a href=\"mailto:info@webscraper.io\">info@webscraper.io</a>\n",
            "\t\t\t\t\t</li>\n",
            "\t\t\t\t\t\n",
            "\t\t\t\t\t<li>Rupniecibas iela 30,<br> Riga, Latvia, LV-1045</li>\n",
            "\t\t\t\t</ul>\n",
            "\t\t\t\t<ul class=\"smedia\">\n",
            "\t\t\t\t\t<li>\n",
            "\t\t\t\t\t\t<a href=\"https://www.facebook.com/webscraperio/\" target=\"_blank\" rel=\"noopener\"><img src=\"/img/fbicon.png\" alt=\"Web Scraper on Facebook\"></a>\n",
            "\t\t\t\t\t</li>\n",
            "\t\t\t\t\t<li>\n",
            "\t\t\t\t\t\t<a href=\"https://twitter.com/webscraperio\" target=\"_blank\" rel=\"noopener\"><img src=\"/img/twicon.png\" alt=\"Web Scraper on Twitter\"></a>\n",
            "\t\t\t\t\t</li>\n",
            "\t\t\t\t\t\n",
            "\n",
            "\t\t\t\t</ul>\n",
            "\t\t\t</div>\n",
            "\t\t</div>\n",
            "\t\t<div class=\"row\">\n",
            "\t\t\t<div class=\"col-md-12\">\n",
            "\t\t\t\t<p class=\"copyright\">Copyright &copy 2021\n",
            "\t\t\t\t\t<a href=\"#\">Web Scraper</a> | All rights\n",
            "\t\t\t\t\treserved | Made by zoom59</p>\n",
            "\t\t\t</div>\n",
            "\t\t</div>\n",
            "\t</div>\n",
            "</div>\n",
            "\n",
            "\n",
            "</body>\n",
            "</html>\n",
            "\n"
          ],
          "name": "stdout"
        }
      ]
    },
    {
      "cell_type": "code",
      "metadata": {
        "colab": {
          "base_uri": "https://localhost:8080/"
        },
        "id": "eO2Ua36iw5ph",
        "outputId": "207e4504-6a87-4c9a-a85d-a3605ab0eaa9"
      },
      "source": [
        "#<h1>HELLOWORLD</h1>\n",
        "start = html_code.find(\"<h1>\") + len(\"<h1>\")\n",
        "end = html_code.find(\"</h1>\")\n",
        "\n",
        "print(html_code[start:end])"
      ],
      "execution_count": 63,
      "outputs": [
        {
          "output_type": "stream",
          "text": [
            "Table playground\n"
          ],
          "name": "stdout"
        }
      ]
    },
    {
      "cell_type": "code",
      "metadata": {
        "colab": {
          "base_uri": "https://localhost:8080/"
        },
        "id": "myEyTtDpx0lp",
        "outputId": "4ee1ccf5-1af0-4c1d-b64f-ea858d1d8f8d"
      },
      "source": [
        "url = \"https://webscraper.io/test-sites/tables\"\n",
        "\n",
        "html_code = urlopen(url).read().decode(\"utf-8\")\n",
        "\n",
        "soup = BeautifulSoup(html_code, 'lxml')\n",
        "\n",
        "headings_2 = soup.find_all(\"h2\")\n",
        "print(headings_2)\n"
      ],
      "execution_count": 64,
      "outputs": [
        {
          "output_type": "stream",
          "text": [
            "[<h2>Semantically correct table with thead and tbody</h2>, <h2>Table without thead tag</h2>, <h2>Table with multiple header rows and an empty data row</h2>]\n"
          ],
          "name": "stdout"
        }
      ]
    },
    {
      "cell_type": "code",
      "metadata": {
        "colab": {
          "base_uri": "https://localhost:8080/"
        },
        "id": "myCPDsBR-I9I",
        "outputId": "056fd9ef-01e8-4b60-9eef-45f9829f5e0d"
      },
      "source": [
        "#img src, alternate text\n",
        "\n",
        "images = soup.find_all(\"img\")\n",
        "print(images[1]['src'])\n",
        "print(images[1]['alt'])"
      ],
      "execution_count": 65,
      "outputs": [
        {
          "output_type": "stream",
          "text": [
            "/img/fbicon.png\n",
            "Web Scraper on Facebook\n"
          ],
          "name": "stdout"
        }
      ]
    },
    {
      "cell_type": "code",
      "metadata": {
        "colab": {
          "base_uri": "https://localhost:8080/"
        },
        "id": "zP-fzJCjy0LT",
        "outputId": "2a79991d-f4b7-401a-c281-245803c20619"
      },
      "source": [
        "first_table = soup.find('table')\n",
        "rows = first_table.findAll('tr')[1:]\n",
        "last_names = []\n",
        "for row in rows:\n",
        "  #last_names.append(row.findAll('td')[2])\n",
        "  #text\n",
        "  last_names.append(row.findAll('td')[2].get_text())\n",
        "print(last_names)"
      ],
      "execution_count": 66,
      "outputs": [
        {
          "output_type": "stream",
          "text": [
            "['Otto', 'Thornton', 'the Bird']\n"
          ],
          "name": "stdout"
        }
      ]
    },
    {
      "cell_type": "code",
      "metadata": {
        "colab": {
          "base_uri": "https://localhost:8080/"
        },
        "id": "8M_3UrRE17bX",
        "outputId": "0d846c41-fec7-4f49-b249-c205875252b6"
      },
      "source": [
        "url = \"https://en.wikipedia.org/wiki/Python_(programming_language)\"\n",
        "\n",
        "html_code = urlopen(url).read().decode(\"utf-8\")\n",
        "\n",
        "soup = BeautifulSoup(html_code, 'lxml')\n",
        "\n",
        "type_table = soup.find(class_=\"wikitable\")\n",
        "body = type_table.find(\"tbody\")\n",
        "rows = body.find_all(\"tr\")[1:]\n",
        "\n",
        "mutable_types = []\n",
        "immutable_types = []\n",
        "\n",
        "for row in rows:\n",
        "  data = row.find_all(\"td\")\n",
        "  if data[1].get_text() == \"mutable\\n\":\n",
        "    mutable_types.append(data[0].get_text())\n",
        "  else:\n",
        "    immutable_types.append(data[0].get_text())\n",
        "\n",
        "print(f\"Mutable Types: {mutable_types}\")\n",
        "print(f\"Immutable Types: {immutable_types}\")\n"
      ],
      "execution_count": 67,
      "outputs": [
        {
          "output_type": "stream",
          "text": [
            "Mutable Types: ['bytearray\\n', 'dict\\n', 'list\\n', 'set\\n']\n",
            "Immutable Types: ['bool\\n', 'bytes\\n', 'complex\\n', 'ellipsisa\\n', 'float\\n', 'frozenset\\n', 'int\\n', 'NoneTypea\\n', 'NotImplementedTypea\\n', 'range\\n', 'str\\n', 'tuple\\n']\n"
          ],
          "name": "stdout"
        }
      ]
    },
    {
      "cell_type": "code",
      "metadata": {
        "colab": {
          "base_uri": "https://localhost:8080/"
        },
        "id": "zZPzkPCt3NxG",
        "outputId": "80694251-962e-42ef-d272-1df63e0facb2"
      },
      "source": [
        "#image\n",
        "thumb_box = soup.find(class_=\"thumb\")\n",
        "thumb_img_src = thumb_box.find(\"img\")['src']\n",
        "print(thumb_img_src)\n"
      ],
      "execution_count": 68,
      "outputs": [
        {
          "output_type": "stream",
          "text": [
            "//upload.wikimedia.org/wikipedia/commons/thumb/9/94/Guido_van_Rossum_OSCON_2006_cropped.png/150px-Guido_van_Rossum_OSCON_2006_cropped.png\n"
          ],
          "name": "stdout"
        }
      ]
    },
    {
      "cell_type": "code",
      "metadata": {
        "colab": {
          "base_uri": "https://localhost:8080/"
        },
        "id": "u3SH2-206yAf",
        "outputId": "b01649e8-f9f5-4752-94c9-ed36dc00683f"
      },
      "source": [
        "#table contents\n",
        "toc = soup.find(class_=\"toc\")\n",
        "toc_text = [a.get_text() for a in toc.find_all(\"a\")]\n",
        "print(toc_text)\n"
      ],
      "execution_count": 69,
      "outputs": [
        {
          "output_type": "stream",
          "text": [
            "['1 History', '2 Design philosophy and features', '3 Syntax and semantics', '3.1 Indentation', '3.2 Statements and control flow', '3.3 Expressions', '3.4 Methods', '3.5 Typing', '3.6 Arithmetic operations', '4 Programming examples', '5 Libraries', '6 Development environments', '7 Implementations', '7.1 Reference implementation', '7.2 Other implementations', '7.3 Unsupported implementations', '7.4 Cross-compilers to other languages', '7.5 Performance', '8 Development', '9 API documentation generators', '10 Naming', '11 Popularity', '12 Uses', '13 Languages influenced by Python', '14 See also', '15 References', '15.1 Sources', '16 Further reading', '17 External links']\n"
          ],
          "name": "stdout"
        }
      ]
    },
    {
      "cell_type": "code",
      "metadata": {
        "colab": {
          "base_uri": "https://localhost:8080/"
        },
        "id": "FTl45a467lEV",
        "outputId": "d23a44ad-bf7d-41a3-e0f4-6331d24614ba"
      },
      "source": [
        "#img src, alternate text\n",
        "\n",
        "images = soup.find_all(\"img\")\n",
        "print(images[1]['src'])\n",
        "print(images[1]['alt'])"
      ],
      "execution_count": 70,
      "outputs": [
        {
          "output_type": "stream",
          "text": [
            "//upload.wikimedia.org/wikipedia/commons/thumb/f/f8/Python_logo_and_wordmark.svg/250px-Python_logo_and_wordmark.svg.png\n",
            "Python logo and wordmark.svg\n"
          ],
          "name": "stdout"
        }
      ]
    }
  ]
}